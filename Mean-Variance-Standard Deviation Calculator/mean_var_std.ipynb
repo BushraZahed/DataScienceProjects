{
 "cells": [
  {
   "cell_type": "code",
   "execution_count": 6,
   "id": "2dd0d1a8-5c38-4fd8-9ef7-62500871556f",
   "metadata": {},
   "outputs": [
    {
     "name": "stdout",
     "output_type": "stream",
     "text": [
      "{'mean': [[3.0, 4.0, 5.0], [1.0, 4.0, 7.0], 4.0], 'variance': [[6.0, 6.0, 6.0], [0.6666666666666666, 0.6666666666666666, 0.6666666666666666], 6.666666666666667], 'standard deviation': [[2.449489742783178, 2.449489742783178, 2.449489742783178], [0.816496580927726, 0.816496580927726, 0.816496580927726], 2.581988897471611], 'max': [[6, 7, 8], [2, 5, 8], 8], 'min': [[0, 1, 2], [0, 3, 6], 0], 'sum': [[9, 12, 15], [3, 12, 21], 36]}\n"
     ]
    }
   ],
   "source": [
    "import numpy as np\n",
    "\n",
    "def calculate(list):\n",
    "  if len(list) < 9:\n",
    "    print(\"nine elements are required in the list\")\n",
    "   # raise ValueError('List must contain nine numbers.')\n",
    "  else:\n",
    "    calculations = {'mean': '','variance': '','standard deviation': '', 'max': '','min': '','sum': ''}\n",
    "    #converting list to np array\n",
    "    input = np.array([list[0:3],list[3:6],list[6:9]])\n",
    "\n",
    "    calculations.update({'mean':[input.mean(0).tolist(),input.mean(1).tolist(),input.mean().tolist()]})\n",
    "    calculations.update({'variance':[input.var(0).tolist(),input.var(1).tolist(),input.var().tolist()]})\n",
    "    calculations.update({'standard deviation':[input.std(0).tolist(),input.std(1).tolist(),input.std().tolist()]})\n",
    "    calculations.update({'max':[input.max(0).tolist(),input.max(1).tolist(),input.max().tolist()]})\n",
    "    calculations.update({'min':[input.min(0).tolist(),input.min(1).tolist(),input.min().tolist()]})\n",
    "    calculations.update({'sum':[input.sum(0).tolist(),input.sum(1).tolist(),input.sum().tolist()]})\n",
    "    \n",
    "    return calculations\n",
    "  \n",
    "\n",
    "print(calculate([0,1,2,3,4,5,6,7,8]))\n",
    "    "
   ]
  },
  {
   "cell_type": "markdown",
   "id": "f0687351-3491-4e3a-a890-f0d48609980b",
   "metadata": {},
   "source": [
    "# Mean-Variance-Standard Deviation Calculator\n",
    "### Create a function named calculate() in mean_var_std.py that uses Numpy to output the mean, variance, standard deviation, max, min, and sum of the rows, columns, and elements in a 3 x 3 matrix.\n",
    "\n",
    "The input of the function should be a list containing 9 digits. The function should convert the list into a 3 x 3 Numpy array, and then return a dictionary containing the mean, variance, standard deviation, max, min, and sum along both axes and for the flattened matrix.\n",
    "\n",
    "The returned dictionary should follow this format:\n",
    "\n",
    "{\n",
    "  'mean': [axis1, axis2, flattened],\n",
    "  'variance': [axis1, axis2, flattened],\n",
    "  'standard deviation': [axis1, axis2, flattened],\n",
    "  'max': [axis1, axis2, flattened],\n",
    "  'min': [axis1, axis2, flattened],\n",
    "  'sum': [axis1, axis2, flattened]\n",
    "}\n",
    "If a list containing less than 9 elements is passed into the function, it should raise a ValueError exception with the message: \"List must contain nine numbers.\" The values in the returned dictionary should be lists and not Numpy arrays.\n",
    "\n",
    "For example, calculate([0,1,2,3,4,5,6,7,8]) should return:\n",
    "\n",
    "{\n",
    "  'mean': [[3.0, 4.0, 5.0], [1.0, 4.0, 7.0], 4.0],\n",
    "  'variance': [[6.0, 6.0, 6.0], [0.6666666666666666, 0.6666666666666666, 0.6666666666666666], 6.666666666666667],\n",
    "  'standard deviation': [[2.449489742783178, 2.449489742783178, 2.449489742783178], [0.816496580927726, 0.816496580927726, 0.816496580927726], 2.581988897471611],\n",
    "  'max': [[6, 7, 8], [2, 5, 8], 8],\n",
    "  'min': [[0, 1, 2], [0, 3, 6], 0],\n",
    "  'sum': [[9, 12, 15], [3, 12, 21], 36]\n",
    "}"
   ]
  },
  {
   "cell_type": "code",
   "execution_count": null,
   "id": "dbb53146-c260-40a1-af51-51799725f4ba",
   "metadata": {},
   "outputs": [],
   "source": []
  },
  {
   "cell_type": "code",
   "execution_count": null,
   "id": "95c968d2-7191-45a7-87d0-c8109087099a",
   "metadata": {},
   "outputs": [],
   "source": []
  },
  {
   "cell_type": "code",
   "execution_count": null,
   "id": "3fb46d2a-ec11-46a3-bb6d-04711637d5b6",
   "metadata": {},
   "outputs": [],
   "source": []
  }
 ],
 "metadata": {
  "kernelspec": {
   "display_name": "Python 3 (ipykernel)",
   "language": "python",
   "name": "python3"
  },
  "language_info": {
   "codemirror_mode": {
    "name": "ipython",
    "version": 3
   },
   "file_extension": ".py",
   "mimetype": "text/x-python",
   "name": "python",
   "nbconvert_exporter": "python",
   "pygments_lexer": "ipython3",
   "version": "3.8.8"
  }
 },
 "nbformat": 4,
 "nbformat_minor": 5
}
