{
 "cells": [
  {
   "cell_type": "markdown",
   "id": "d5173e0c",
   "metadata": {},
   "source": [
    "## Sea Level Predictor"
   ]
  },
  {
   "cell_type": "code",
   "execution_count": 36,
   "id": "aa04e1b3",
   "metadata": {},
   "outputs": [],
   "source": [
    "import pandas as pd\n",
    "import numpy as np\n",
    "import seaborn as sns\n",
    "import matplotlib.pyplot as plt\n",
    "%matplotlib inline\n",
    "from scipy.stats import linregress"
   ]
  },
  {
   "cell_type": "markdown",
   "id": "c4dcf69c",
   "metadata": {},
   "source": [
    "## The idea of this project is to analyze the global average sea level since 1880, and predict the sea level growth at 2050. The behaviour of the sea level has been approximately linear between 1880 and 2013, for this reason we consider a linear least-squares regression. In order to analize future sea level values we made an adjustment in the last decade due to an explosive growth in this period."
   ]
  },
  {
   "cell_type": "code",
   "execution_count": 37,
   "id": "cab581c1",
   "metadata": {},
   "outputs": [
    {
     "data": {
      "text/html": [
       "<div>\n",
       "<style scoped>\n",
       "    .dataframe tbody tr th:only-of-type {\n",
       "        vertical-align: middle;\n",
       "    }\n",
       "\n",
       "    .dataframe tbody tr th {\n",
       "        vertical-align: top;\n",
       "    }\n",
       "\n",
       "    .dataframe thead th {\n",
       "        text-align: right;\n",
       "    }\n",
       "</style>\n",
       "<table border=\"1\" class=\"dataframe\">\n",
       "  <thead>\n",
       "    <tr style=\"text-align: right;\">\n",
       "      <th></th>\n",
       "      <th>Year</th>\n",
       "      <th>CSIRO Adjusted Sea Level</th>\n",
       "      <th>Lower Error Bound</th>\n",
       "      <th>Upper Error Bound</th>\n",
       "      <th>NOAA Adjusted Sea Level</th>\n",
       "    </tr>\n",
       "  </thead>\n",
       "  <tbody>\n",
       "    <tr>\n",
       "      <th>0</th>\n",
       "      <td>1880</td>\n",
       "      <td>0.000000</td>\n",
       "      <td>-0.952756</td>\n",
       "      <td>0.952756</td>\n",
       "      <td>NaN</td>\n",
       "    </tr>\n",
       "    <tr>\n",
       "      <th>1</th>\n",
       "      <td>1881</td>\n",
       "      <td>0.220472</td>\n",
       "      <td>-0.732283</td>\n",
       "      <td>1.173228</td>\n",
       "      <td>NaN</td>\n",
       "    </tr>\n",
       "    <tr>\n",
       "      <th>2</th>\n",
       "      <td>1882</td>\n",
       "      <td>-0.440945</td>\n",
       "      <td>-1.346457</td>\n",
       "      <td>0.464567</td>\n",
       "      <td>NaN</td>\n",
       "    </tr>\n",
       "    <tr>\n",
       "      <th>3</th>\n",
       "      <td>1883</td>\n",
       "      <td>-0.232283</td>\n",
       "      <td>-1.129921</td>\n",
       "      <td>0.665354</td>\n",
       "      <td>NaN</td>\n",
       "    </tr>\n",
       "    <tr>\n",
       "      <th>4</th>\n",
       "      <td>1884</td>\n",
       "      <td>0.590551</td>\n",
       "      <td>-0.283465</td>\n",
       "      <td>1.464567</td>\n",
       "      <td>NaN</td>\n",
       "    </tr>\n",
       "    <tr>\n",
       "      <th>...</th>\n",
       "      <td>...</td>\n",
       "      <td>...</td>\n",
       "      <td>...</td>\n",
       "      <td>...</td>\n",
       "      <td>...</td>\n",
       "    </tr>\n",
       "    <tr>\n",
       "      <th>129</th>\n",
       "      <td>2009</td>\n",
       "      <td>8.586614</td>\n",
       "      <td>8.311024</td>\n",
       "      <td>8.862205</td>\n",
       "      <td>8.046354</td>\n",
       "    </tr>\n",
       "    <tr>\n",
       "      <th>130</th>\n",
       "      <td>2010</td>\n",
       "      <td>8.901575</td>\n",
       "      <td>8.618110</td>\n",
       "      <td>9.185039</td>\n",
       "      <td>8.122973</td>\n",
       "    </tr>\n",
       "    <tr>\n",
       "      <th>131</th>\n",
       "      <td>2011</td>\n",
       "      <td>8.964567</td>\n",
       "      <td>8.661417</td>\n",
       "      <td>9.267717</td>\n",
       "      <td>8.053065</td>\n",
       "    </tr>\n",
       "    <tr>\n",
       "      <th>132</th>\n",
       "      <td>2012</td>\n",
       "      <td>9.326772</td>\n",
       "      <td>8.992126</td>\n",
       "      <td>9.661417</td>\n",
       "      <td>8.457058</td>\n",
       "    </tr>\n",
       "    <tr>\n",
       "      <th>133</th>\n",
       "      <td>2013</td>\n",
       "      <td>8.980315</td>\n",
       "      <td>8.622047</td>\n",
       "      <td>9.338583</td>\n",
       "      <td>8.546648</td>\n",
       "    </tr>\n",
       "  </tbody>\n",
       "</table>\n",
       "<p>134 rows × 5 columns</p>\n",
       "</div>"
      ],
      "text/plain": [
       "     Year  CSIRO Adjusted Sea Level  Lower Error Bound  Upper Error Bound  \\\n",
       "0    1880                  0.000000          -0.952756           0.952756   \n",
       "1    1881                  0.220472          -0.732283           1.173228   \n",
       "2    1882                 -0.440945          -1.346457           0.464567   \n",
       "3    1883                 -0.232283          -1.129921           0.665354   \n",
       "4    1884                  0.590551          -0.283465           1.464567   \n",
       "..    ...                       ...                ...                ...   \n",
       "129  2009                  8.586614           8.311024           8.862205   \n",
       "130  2010                  8.901575           8.618110           9.185039   \n",
       "131  2011                  8.964567           8.661417           9.267717   \n",
       "132  2012                  9.326772           8.992126           9.661417   \n",
       "133  2013                  8.980315           8.622047           9.338583   \n",
       "\n",
       "     NOAA Adjusted Sea Level  \n",
       "0                        NaN  \n",
       "1                        NaN  \n",
       "2                        NaN  \n",
       "3                        NaN  \n",
       "4                        NaN  \n",
       "..                       ...  \n",
       "129                 8.046354  \n",
       "130                 8.122973  \n",
       "131                 8.053065  \n",
       "132                 8.457058  \n",
       "133                 8.546648  \n",
       "\n",
       "[134 rows x 5 columns]"
      ]
     },
     "execution_count": 37,
     "metadata": {},
     "output_type": "execute_result"
    }
   ],
   "source": [
    "# Read data from file\n",
    "df = pd.read_csv('epa-sea-level.csv')\n",
    "df"
   ]
  },
  {
   "cell_type": "markdown",
   "id": "49089d6f",
   "metadata": {},
   "source": [
    "## The data source is provided by the US Environmental Protection Agency: Global Average Absolute Sea Level Change, 1880-2014 from the US Environmental Protection Agency using data from CSIRO, 2015; NOAA, 2015.&nbsp;https://datahub.io/core/sea-level-rise"
   ]
  },
  {
   "cell_type": "code",
   "execution_count": 38,
   "id": "29f2fb7d",
   "metadata": {},
   "outputs": [],
   "source": [
    "# Create scatter plot\n",
    "#Use matplotlib to create a scatter plot using the Year column as the x-axis and the CSIRO Adjusted Sea Level \n",
    "#column as the y-axix."
   ]
  },
  {
   "cell_type": "code",
   "execution_count": 39,
   "id": "7ada1230",
   "metadata": {},
   "outputs": [
    {
     "data": {
      "image/png": "[encoded data removed]",
      "text/plain": [
       "<Figure size 432x288 with 1 Axes>"
      ]
     },
     "metadata": {
      "needs_background": "light"
     },
     "output_type": "display_data"
    }
   ],
   "source": [
    "x =df['Year']\n",
    "   \n",
    "y =df['CSIRO Adjusted Sea Level']\n",
    "plt.scatter(x, y, c =\"blue\")\n",
    "plt.xlabel(\"Year\")\n",
    "plt.ylabel(\"Sea Level (inches)\")\n",
    "plt.title('Rise in Sea Level')\n",
    "\n",
    "# To show the plot\n",
    "plt.show()"
   ]
  },
  {
   "cell_type": "code",
   "execution_count": 40,
   "id": "01f8d4d0",
   "metadata": {},
   "outputs": [],
   "source": [
    "#positive relationship, we see the rise of sea levels over the years"
   ]
  },
  {
   "cell_type": "code",
   "execution_count": 41,
   "id": "1b7019fb",
   "metadata": {},
   "outputs": [],
   "source": [
    "# Create first line of best fit (2 different ways done)"
   ]
  },
  {
   "cell_type": "code",
   "execution_count": 42,
   "id": "6f349567",
   "metadata": {},
   "outputs": [
    {
     "data": {
      "text/plain": [
       "[<matplotlib.lines.Line2D at 0x28c1638fb20>]"
      ]
     },
     "execution_count": 42,
     "metadata": {},
     "output_type": "execute_result"
    },
    {
     "data": {
      "image/png": "[encoded data removed]",
      "text/plain": [
       "<Figure size 432x288 with 1 Axes>"
      ]
     },
     "metadata": {
      "needs_background": "light"
     },
     "output_type": "display_data"
    }
   ],
   "source": [
    "a, b = np.polyfit(x, y, 1) #numpy. polyfit will only return an equation that goes through all the points (say you have N) if the degree of the polynomial is at least N-1. Otherwise, it will return a best fit that minimises the squared error\n",
    "plt.scatter(x, y,color='red')\n",
    "plt.xlabel(\"Year\")\n",
    "plt.ylabel(\"Sea Level (inches)\")\n",
    "plt.title('Rise in Sea Level')\n",
    "plt.plot(x, a*x+b, color='black', linestyle='--', linewidth=2) "
   ]
  },
  {
   "cell_type": "code",
   "execution_count": 43,
   "id": "57f90631",
   "metadata": {},
   "outputs": [],
   "source": [
    "#Scipy linregress returns tuple when passed Pandas data\n",
    "#Linear regression uses the relationship between the data-points to draw a straight line through all them. This line can be used to predict future values."
   ]
  },
  {
   "cell_type": "code",
   "execution_count": 44,
   "id": "d9694429",
   "metadata": {},
   "outputs": [
    {
     "name": "stdout",
     "output_type": "stream",
     "text": [
      "LinregressResult(slope=0.0630445840121348, intercept=-119.06594196773978, rvalue=0.984757131182585, pvalue=3.7886969791131554e-102, stderr=0.000969211871328715, intercept_stderr=1.8869433812425225)\n"
     ]
    }
   ],
   "source": [
    "res = linregress(x,y) #With this linear function, we are able to predict the sea level behaviour. To see if it is correct we can check the fit in to the data plotting the data and the linear regression. We use the statistical data visualization package Seaborn.\n",
    "print(res)\n"
   ]
  },
  {
   "cell_type": "code",
   "execution_count": 46,
   "id": "04fd1882",
   "metadata": {},
   "outputs": [
    {
     "data": {
      "text/plain": [
       "Text(0.5, 1.0, 'Rise in Sea Level')"
      ]
     },
     "execution_count": 46,
     "metadata": {},
     "output_type": "execute_result"
    },
    {
     "data": {
      "image/png": "[encoded data removed]",
      "text/plain": [
       "<Figure size 432x288 with 1 Axes>"
      ]
     },
     "metadata": {
      "needs_background": "light"
     },
     "output_type": "display_data"
    }
   ],
   "source": [
    "x_pred = pd.Series([i for i in range(1880,2050)])\n",
    "y_pred = res.slope * x_pred + res.intercept\n",
    "plt.scatter(x, y,color='red')\n",
    "plt.plot(x_pred,y_pred,'black')\n",
    "plt.xlabel(\"Year\")\n",
    "plt.ylabel(\"Sea Level (inches)\")\n",
    "plt.title('Rise in Sea Level')"
   ]
  },
  {
   "cell_type": "code",
   "execution_count": 47,
   "id": "3a0f65fd",
   "metadata": {},
   "outputs": [],
   "source": [
    "# Analysis: We see that the fit of the linear function is correct, but the data suffer an important growth in the last decade. For this reason we consider values above the year 2000 and we compute\n",
    "#again the linear regression for this data. We suspect in 2050, that the sea level will be about 10 inches."
   ]
  },
  {
   "cell_type": "code",
   "execution_count": 48,
   "id": "2fc10f1d",
   "metadata": {},
   "outputs": [
    {
     "name": "stdout",
     "output_type": "stream",
     "text": [
      "LinregressResult(slope=0.1664272733318682, intercept=-325.7934668059649, rvalue=0.9762875716140618, pvalue=2.4388064141618245e-09, stderr=0.010652933111541163, intercept_stderr=21.375153425608215)\n"
     ]
    },
    {
     "data": {
      "text/plain": [
       "Text(0.5, 1.0, 'Rise in Sea Level')"
      ]
     },
     "execution_count": 48,
     "metadata": {},
     "output_type": "execute_result"
    },
    {
     "data": {
      "image/png": "[encoded data removed]",
      "text/plain": [
       "<Figure size 432x288 with 1 Axes>"
      ]
     },
     "metadata": {
      "needs_background": "light"
     },
     "output_type": "display_data"
    }
   ],
   "source": [
    "# Create second line of best fit\n",
    "df2 = df.loc[df['Year'] >= 2000]\n",
    "x2 = df2['Year']\n",
    "y2= df2['CSIRO Adjusted Sea Level']\n",
    "res2 = linregress(x2,y2)\n",
    "print(res2)\n",
    "x2_pred = pd.Series([i for i in range(2000,2050)])\n",
    "y2_pred = res2.slope * x2_pred + res2.intercept\n",
    "plt.scatter(x2, y2,color='red')\n",
    "plt.plot(x2_pred,y2_pred,'black')\n",
    "plt.xlabel(\"Year\")\n",
    "plt.ylabel(\"Sea Level (inches)\")\n",
    "plt.title('Rise in Sea Level')"
   ]
  },
  {
   "cell_type": "code",
   "execution_count": 49,
   "id": "1161ee32",
   "metadata": {},
   "outputs": [],
   "source": [
    "#Analysis: We suspect in 2050, that the sea level will be slightly above 15inches above the normalized value (Year = 1880) from the first best fit."
   ]
  },
  {
   "cell_type": "code",
   "execution_count": null,
   "id": "d7678395",
   "metadata": {},
   "outputs": [],
   "source": []
  }
 ],
 "metadata": {
  "kernelspec": {
   "display_name": "Python 3 (ipykernel)",
   "language": "python",
   "name": "python3"
  },
  "language_info": {
   "codemirror_mode": {
    "name": "ipython",
    "version": 3
   },
   "file_extension": ".py",
   "mimetype": "text/x-python",
   "name": "python",
   "nbconvert_exporter": "python",
   "pygments_lexer": "ipython3",
   "version": "3.8.8"
  }
 },
 "nbformat": 4,
 "nbformat_minor": 5
}
